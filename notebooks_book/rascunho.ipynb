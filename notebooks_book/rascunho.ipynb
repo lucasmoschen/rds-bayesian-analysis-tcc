{
 "cells": [
  {
   "cell_type": "markdown",
   "source": [
    "# Rascunho"
   ],
   "metadata": {}
  },
  {
   "cell_type": "code",
   "execution_count": 2,
   "source": [
    "import numpy as np\n",
    "import pystan as ps\n",
    "import sympy as sp\n",
    "\n",
    "import matplotlib.pyplot as plt\n",
    "import seaborn as sns\n",
    "sns.set()\n",
    "\n",
    "%matplotlib inline\n",
    "\n",
    "import pickle\n",
    "\n",
    "import sys\n",
    "sys.path.append('../scripts/')\n",
    "\n",
    "from utilits import ParameterAlpha, BivariateBeta"
   ],
   "outputs": [],
   "metadata": {}
  },
  {
   "cell_type": "code",
   "execution_count": 3,
   "source": [
    "m1,m2,v1,v2,rho = sp.symbols('m1 m2 v1 v2 rho')\n",
    "alpha3,alpha4 = sp.symbols('alpha_3 alpha_4')\n",
    "alpha1 = (m1+m2-1)/(1-m1)*alpha3 + m2/(1 - m1)*alpha4\n",
    "alpha2 = (1-m2)/(1-m1)*alpha3 + (m1-m2)/(1-m1)*alpha4 \n",
    "tilde_a = alpha1+alpha2+alpha3+alpha4\n",
    "corr = (alpha1*alpha4 - alpha2*alpha3)/(tilde_a**2*sp.sqrt((m1*m2*(1-m1)*(1-m2))))\n",
    "corr = sp.simplify(corr)"
   ],
   "outputs": [],
   "metadata": {}
  },
  {
   "cell_type": "markdown",
   "source": [],
   "metadata": {}
  },
  {
   "cell_type": "code",
   "execution_count": 4,
   "source": [
    "sp.solve(rho - corr, alpha3)[0]"
   ],
   "outputs": [
    {
     "output_type": "execute_result",
     "data": {
      "text/latex": [
       "$\\displaystyle \\frac{\\alpha_{4} \\left(- m_{1} m_{2} + m_{2} - \\rho \\sqrt{m_{1} m_{2} \\left(m_{1} m_{2} - m_{1} - m_{2} + 1\\right)}\\right)}{m_{1} m_{2} - m_{1} - m_{2} + \\rho \\sqrt{m_{1} m_{2} \\left(m_{1} m_{2} - m_{1} - m_{2} + 1\\right)} + 1}$"
      ],
      "text/plain": [
       "alpha_4*(-m1*m2 + m2 - rho*sqrt(m1*m2*(m1*m2 - m1 - m2 + 1)))/(m1*m2 - m1 - m2 + rho*sqrt(m1*m2*(m1*m2 - m1 - m2 + 1)) + 1)"
      ]
     },
     "metadata": {},
     "execution_count": 4
    }
   ],
   "metadata": {}
  }
 ],
 "metadata": {
  "interpreter": {
   "hash": "5ed45aeb2f80697313442a6637689c7cea9f5cd323e50e2056a37945d13c6921"
  },
  "kernelspec": {
   "name": "python3",
   "display_name": "Python 3.9.5 64-bit ('tcc-rds': conda)"
  },
  "language_info": {
   "codemirror_mode": {
    "name": "ipython",
    "version": 3
   },
   "file_extension": ".py",
   "mimetype": "text/x-python",
   "name": "python",
   "nbconvert_exporter": "python",
   "pygments_lexer": "ipython3",
   "version": "3.9.5"
  }
 },
 "nbformat": 4,
 "nbformat_minor": 5
}