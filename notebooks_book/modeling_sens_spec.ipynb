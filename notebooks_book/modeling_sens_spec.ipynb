{
 "cells": [
  {
   "cell_type": "markdown",
   "id": "4b50b79f",
   "metadata": {},
   "source": [
    "# Modeling True Positive and True Negative rates\n",
    "\n",
    "We want to use the Bivariate Beta distribution built in the previous\n",
    "sections. Before integrating it to the whole model, we consider a model for\n",
    "sensibility and sensitivity as follows: \n",
    "\n",
    "Let $Y_p$ denote the number of positives tests in $n_{pos}$ individuals who\n",
    "were exposed to a disease, and $Y_n$ denote the number of negative tests in\n",
    "$n_{neg}$ not exposed. The person is tested with a gold standard, which is the\n",
    "best benchmark and the most accurate possible.\n",
    "\n",
    "Remind that the sensitivity $\\gamma_s$ is the probability of a test being positive given\n",
    "the exposition, while the specificity $\\gamma_e$ is the probability of a\n",
    "negative test given the non-exposition. \n",
    "Therefore, \n",
    "\n",
    "\\begin{align*}\n",
    "    Y_p &\\sim Binomial(n_{pos}, \\gamma_s) \\\\\n",
    "    Y_n &\\sim Binomial(n_{neg}, \\gamma_e) \\\\\n",
    "    \\gamma_s &= U_1 + U_2 \\\\\n",
    "    \\gamma_e &= U_1 + U_3, \n",
    "\\end{align*}\n",
    "\n",
    "such that $(U_1, U_2, U_3, U_4) \\sim Dirichlet(\\alpha_1, \\alpha_2, \\alpha_3, \\alpha_4)$. \n",
    "Besides that, there are two different models to handle with\n",
    "$\\alpha = (\\alpha_1, \\dots, \\alpha_4)$. \n",
    "\n",
    "I. $\\alpha_i \\sim \\operatorname{Gamma}(a^i, b^i)$, with $a^i$ and $b^i$ fixed. \n",
    "\n",
    "II. $\\alpha_i \\sim \\operatorname{Dirac}(\\hat{\\alpha}_i)$ such that $\\hat{\\alpha}_i$\n",
    "is calculated as explained before. "
   ]
  },
  {
   "cell_type": "code",
   "execution_count": 1,
   "id": "8c66836e",
   "metadata": {},
   "outputs": [],
   "source": [
    "import numpy as np\n",
    "import pystan as ps\n",
    "\n",
    "import matplotlib.pyplot as plt\n",
    "import seaborn as sns\n",
    "import arviz as az\n",
    "sns.set()\n",
    "\n",
    "%matplotlib inline\n",
    "\n",
    "import pickle\n",
    "\n",
    "import sys\n",
    "sys.path.append('../scripts/')\n",
    "\n",
    "from utilits import ParameterAlpha, BivariateBeta"
   ]
  },
  {
   "cell_type": "markdown",
   "id": "4a4f89f6",
   "metadata": {},
   "source": [
    "## Model \n",
    "\n",
    "First we code the model in Stan and use PyStan as a Python interface. "
   ]
  },
  {
   "cell_type": "code",
   "execution_count": 3,
   "id": "d339736b",
   "metadata": {},
   "outputs": [],
   "source": [
    "compiled = True\n",
    "#compiled = False\n",
    "\n",
    "if compiled: \n",
    "    sm = pickle.load(open('../models/sensitivity_specificity/spec_sens_model.pkl', 'rb'))\n",
    "else: \n",
    "    sm = ps.StanModel(file = '../models/sensitivity_specificity/spec_sens_model.stan')\n",
    "    with open('../models/sensitivity_specificity/spec_sens_model.pkl', 'wb') as f:\n",
    "        pickle.dump(sm, f)"
   ]
  },
  {
   "cell_type": "markdown",
   "id": "6c919778",
   "metadata": {},
   "source": [
    "### Data and parameter blocks\n",
    "\n",
    "Observe that we have a boolean variable to distinguish both models. "
   ]
  },
  {
   "cell_type": "code",
   "execution_count": 4,
   "id": "ec62b441",
   "metadata": {},
   "outputs": [
    {
     "name": "stdout",
     "output_type": "stream",
     "text": [
      "data {\n",
      "    int<lower = 0> n_pos;\n",
      "    int<lower = 0> n_neg; \n",
      "    int Y_p;\n",
      "    int Y_n;\n",
      "    // Boolean variable to indicate whether alpha is known\n",
      "    int<lower = 0, upper = 1> alpha_known; \n",
      "    // If alpha is known, length of a and b is 0\n",
      "    vector<lower = 0>[alpha_known ? 0 : 4] a; \n",
      "    vector<lower = 0>[alpha_known ? 0 : 4] b;\n",
      "    vector<lower = 0>[alpha_known ? 4 : 0] alpha_data;\n",
      "}\n",
      "parameters {\n",
      "    vector<lower = 0>[alpha_known ? 0 : 4] alpha_param;\n",
      "    simplex[4] U; \n",
      "}\n",
      "transformed parameters{ \n",
      "    vector<lower=0>[4] alpha;\n",
      "    real<lower = 0, upper = 1> sens;\n",
      "    real<lower = 0, upper = 1> spec; \n",
      "    // If alpha is known, get its data. It not, define the parameter. \n",
      "    if (alpha_known) {\n",
      "        alpha = alpha_data;\n",
      "    } else {\n",
      "        alpha = alpha_param;\n",
      "    }\n",
      "    sens = U[1] + U[2];\n",
      "    spec = U[1] + U[3];\n",
      "}\n"
     ]
    }
   ],
   "source": [
    "print(sm.model_code[0:827])"
   ]
  },
  {
   "cell_type": "markdown",
   "id": "a8bcf467",
   "metadata": {},
   "source": [
    "### Model block "
   ]
  },
  {
   "cell_type": "code",
   "execution_count": 5,
   "id": "21fd5b24",
   "metadata": {},
   "outputs": [
    {
     "name": "stdout",
     "output_type": "stream",
     "text": [
      "\n",
      "model {\n",
      "    // Prior distributions for alpha if required.  \n",
      "    if (!alpha_known) {\n",
      "        for (i in 1:4) {\n",
      "            alpha[i] ~ gamma(a[i], b[i]);\n",
      "        }\n",
      "    }\n",
      "\n",
      "    U ~ dirichlet(alpha);\n",
      "    Y_p ~ binomial(n_pos, sens);\n",
      "    Y_n ~ binomial(n_neg, spec);\n",
      "}\n"
     ]
    }
   ],
   "source": [
    "print(sm.model_code[827:1089])"
   ]
  },
  {
   "cell_type": "markdown",
   "id": "adaef8ca",
   "metadata": {},
   "source": [
    "## Toy example \n",
    "\n",
    "First we need to test the model with fake data. This is done to verify how the it behaves in a controlled space. "
   ]
  },
  {
   "cell_type": "code",
   "execution_count": 6,
   "id": "79916217",
   "metadata": {},
   "outputs": [],
   "source": [
    "n_pos = 50\n",
    "n_neg = 45\n",
    "\n",
    "sens = 0.8 \n",
    "spec = 0.9\n",
    "\n",
    "Y_p = np.random.binomial(n = n_pos, p = sens)\n",
    "Y_n = np.random.binomial(n = n_neg, p = spec)\n",
    "\n",
    "m1, m2, v1, v2, rho = sens, spec, (0.05)**2, (0.05)**2, -0.3\n",
    "\n",
    "solution = ParameterAlpha().minimizer(m1,m2,v1,v2,rho, c = [1,1,1,1])"
   ]
  },
  {
   "cell_type": "markdown",
   "id": "db1c7e8d",
   "metadata": {},
   "source": [
    "Notice that the estimated values are below: "
   ]
  },
  {
   "cell_type": "code",
   "execution_count": 7,
   "id": "c955616e",
   "metadata": {},
   "outputs": [
    {
     "data": {
      "text/plain": [
       "(0.7605622599670436,\n",
       " 0.8451216472124901,\n",
       " 0.0028470020826766042,\n",
       " 0.00204630495469627,\n",
       " -0.2401953043476225)"
      ]
     },
     "execution_count": 7,
     "metadata": {},
     "output_type": "execute_result"
    }
   ],
   "source": [
    "BivariateBeta().moments_calculus(solution.x)"
   ]
  },
  {
   "cell_type": "code",
   "execution_count": 8,
   "id": "0f17da77",
   "metadata": {},
   "outputs": [
    {
     "name": "stderr",
     "output_type": "stream",
     "text": [
      "WARNING:pystan:n_eff / iter below 0.001 indicates that the effective sample size has likely been overestimated\n",
      "WARNING:pystan:7581 of 20000 iterations ended with a divergence (37.9 %).\n",
      "WARNING:pystan:Try running with adapt_delta larger than 0.8 to remove the divergences.\n"
     ]
    }
   ],
   "source": [
    "data = {\n",
    "    \"n_pos\": n_pos, \n",
    "    \"n_neg\": n_neg, \n",
    "    \"Y_p\": Y_p, \n",
    "    \"Y_n\": Y_n, \n",
    "    \"alpha_known\": 1,\n",
    "    \"alpha_data\": solution.x, \n",
    "    \"a\": [], \n",
    "    \"b\": [],\n",
    "}\n",
    "\n",
    "fit = sm.sampling(data=data, iter=10000, chains=4)"
   ]
  },
  {
   "cell_type": "markdown",
   "id": "ceb2fa93",
   "metadata": {},
   "source": [
    "When the parameter `alpha_known = 1`, Stan code fixed `alpha = alpha_data`, a\n",
    "fixed value. Because of that, the `alpha` parameters have `Rhat`and `n_eff`\n",
    "being `nan`. "
   ]
  },
  {
   "cell_type": "code",
   "execution_count": 9,
   "id": "548a7f1c",
   "metadata": {},
   "outputs": [
    {
     "data": {
      "text/plain": [
       "Inference for Stan model: anon_model_27cd10f06a7b45fec6f58c5ba16a0b3e.\n",
       "4 chains, each with iter=10000; warmup=5000; thin=1; \n",
       "post-warmup draws per chain=5000, total post-warmup draws=20000.\n",
       "\n",
       "                  mean se_mean      sd    2.5%     25%     50%    75%  97.5%  n_eff   Rhat\n",
       "U[1]              0.69  5.5e-4    0.05    0.59    0.65    0.69   0.72   0.77   7237    1.0\n",
       "U[2]              0.12  3.8e-4    0.03    0.07     0.1    0.12   0.14   0.19   7214    1.0\n",
       "U[3]              0.19  4.3e-4    0.04    0.12    0.17    0.19   0.22   0.27   7414    1.0\n",
       "U[4]            2.8e-4  1.4e-5  1.5e-3 5.6e-17 8.7e-14 3.8e-10 1.4e-6 3.3e-3  11936    1.0\n",
       "alpha[1]         38.14 5.0e-15 7.1e-15   38.14   38.14   38.14  38.14  38.14      2    1.0\n",
       "alpha[2]          9.75     0.0     0.0    9.75    9.75    9.75   9.75   9.75      2    1.0\n",
       "alpha[3]         15.08 3.8e-15 5.3e-15   15.08   15.08   15.08  15.08  15.08      2    1.0\n",
       "alpha[4]        8.1e-7 7.5e-23 1.1e-22  8.1e-7  8.1e-7  8.1e-7 8.1e-7 8.1e-7      2    1.0\n",
       "sens              0.81  4.3e-4    0.04    0.73    0.78    0.81   0.83   0.88   7415    1.0\n",
       "spec              0.88  3.8e-4    0.03    0.81    0.86    0.88    0.9   0.93   7203    1.0\n",
       "alpha_prior[1]   38.14 5.0e-15 7.1e-15   38.14   38.14   38.14  38.14  38.14      2    1.0\n",
       "alpha_prior[2]    9.75     0.0     0.0    9.75    9.75    9.75   9.75   9.75      2    1.0\n",
       "alpha_prior[3]   15.08 3.8e-15 5.3e-15   15.08   15.08   15.08  15.08  15.08      2    1.0\n",
       "alpha_prior[4]  8.1e-7 7.5e-23 1.1e-22  8.1e-7  8.1e-7  8.1e-7 8.1e-7 8.1e-7      2    1.0\n",
       "U_prior[1]        0.61  4.3e-4    0.06    0.48    0.56    0.61   0.65   0.72  19869    1.0\n",
       "U_prior[2]        0.16  3.2e-4    0.05    0.08    0.12    0.15   0.18   0.25  19419    1.0\n",
       "U_prior[3]        0.24  3.8e-4    0.05    0.14     0.2    0.24   0.27   0.35  19839    1.0\n",
       "U_prior[4]     1.2e-35     nan 1.6e-33     0.0     0.0     0.0    0.0    0.0    nan    1.0\n",
       "sens_prior        0.76  3.8e-4    0.05    0.65    0.73    0.76    0.8   0.86  19839    1.0\n",
       "spec_prior        0.84  3.2e-4    0.05    0.75    0.82    0.85   0.88   0.92  19419    1.0\n",
       "Y_p_prior        38.04    0.03    4.01    30.0    35.0    38.0   41.0   45.0  20035    1.0\n",
       "Y_n_prior        37.99    0.02    3.14    31.0    36.0    38.0   40.0   43.0  19140    1.0\n",
       "lp__            -46.65    0.01    1.04  -49.44  -47.06  -46.33 -45.91 -45.62   5679    1.0\n",
       "\n",
       "Samples were drawn using NUTS at Sat Oct  2 23:57:49 2021.\n",
       "For each parameter, n_eff is a crude measure of effective sample size,\n",
       "and Rhat is the potential scale reduction factor on split chains (at \n",
       "convergence, Rhat=1)."
      ]
     },
     "execution_count": 9,
     "metadata": {},
     "output_type": "execute_result"
    }
   ],
   "source": [
    "fit"
   ]
  },
  {
   "cell_type": "code",
   "execution_count": 10,
   "id": "be675af7",
   "metadata": {},
   "outputs": [
    {
     "data": {
      "text/plain": [
       "<matplotlib.collections.PathCollection at 0x7f57146e2c10>"
      ]
     },
     "execution_count": 10,
     "metadata": {},
     "output_type": "execute_result"
    },
    {
     "data": {
      "image/png": "[encoded data removed]",
      "text/plain": [
       "<Figure size 432x288 with 1 Axes>"
      ]
     },
     "metadata": {
      "needs_background": "light"
     },
     "output_type": "display_data"
    }
   ],
   "source": [
    "info = fit.to_dataframe()\n",
    "\n",
    "plt.scatter(info['U[1]'], info['U[3]'], color = ['r' if info['divergent__'].loc[i] == 1 else 'k' for i in range(len(info))])\n",
    "#az.plot_pair(fit, divergences = True, var_names=('U'))"
   ]
  },
  {
   "cell_type": "code",
   "execution_count": null,
   "id": "cd6d24cc",
   "metadata": {},
   "outputs": [],
   "source": []
  }
 ],
 "metadata": {
  "interpreter": {
   "hash": "5ed45aeb2f80697313442a6637689c7cea9f5cd323e50e2056a37945d13c6921"
  },
  "kernelspec": {
   "display_name": "tcc-emap",
   "language": "python",
   "name": "tcc-emap"
  },
  "language_info": {
   "codemirror_mode": {
    "name": "ipython",
    "version": 3
   },
   "file_extension": ".py",
   "mimetype": "text/x-python",
   "name": "python",
   "nbconvert_exporter": "python",
   "pygments_lexer": "ipython3",
   "version": "3.8.12"
  }
 },
 "nbformat": 4,
 "nbformat_minor": 5
}
