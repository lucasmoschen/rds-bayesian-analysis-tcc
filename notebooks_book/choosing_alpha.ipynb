{
 "cells": [
  {
   "cell_type": "markdown",
   "id": "6d5c750a",
   "metadata": {},
   "source": [
    "(choosing-alpha)=\n",
    "# Prior information about Specificity and Sensitivity\n",
    "\n",
    "In this notebook, we will consider the bivariate beta distribution explained\n",
    "previously to jointly model sensitivity and specificity. If $\\gamma_s$ and\n",
    "$\\gamma_e$ are, respectively sensitivity and specificity, we will have that\n",
    "\n",
    "$$(\\gamma_s, \\gamma_e) \\sim \\operatorname{Bivariate Beta}(\\alpha_1, \\dots,\n",
    "\\alpha_4).$$\n",
    "\n",
    "Suppose we have prior knowledge about these parameters and we want to use this\n",
    "information to help to parametrize the marginal beta distributions. Here I\n",
    "present some consequences of it. "
   ]
  },
  {
   "cell_type": "code",
   "execution_count": 1,
   "id": "26ed1087",
   "metadata": {},
   "outputs": [],
   "source": [
    "import pandas as pd \n",
    "import numpy as np\n",
    "import pystan as ps\n",
    "\n",
    "from scipy.stats import beta\n",
    "from scipy.optimize import minimize\n",
    "\n",
    "import matplotlib.pyplot as plt\n",
    "import seaborn as sns\n",
    "sns.set()\n",
    "\n",
    "%matplotlib inline"
   ]
  },
  {
   "cell_type": "markdown",
   "id": "22083554",
   "metadata": {},
   "source": [
    "Below we can see the the function that calculates the moments of the\n",
    "distribution we showed last [chapter](moments-summary)."
   ]
  },
  {
   "cell_type": "code",
   "execution_count": 3,
   "id": "bdbbe940",
   "metadata": {},
   "outputs": [],
   "source": [
    "def moments_calculus(alpha): \n",
    "    \n",
    "    tilde_alpha = alpha[0]+alpha[1]+alpha[2]+alpha[3]\n",
    "    \n",
    "    E_X = (alpha[0]+alpha[1])/tilde_alpha\n",
    "    E_Y = (alpha[0]+alpha[2])/tilde_alpha\n",
    "    \n",
    "    Var_X = (1/(tilde_alpha*(tilde_alpha+1)))*E_X*(alpha[2] + alpha[3])\n",
    "    Var_Y = (1/(tilde_alpha*(tilde_alpha+1)))*E_Y*(alpha[1] + alpha[3])\n",
    "    \n",
    "    den = np.log(alpha[0] + alpha[1]) + np.log(alpha[2]+alpha[3]) + np.log(alpha[0]+alpha[2]) + np.log(alpha[1]+alpha[3])\n",
    "    den = np.exp(-0.5*den)\n",
    "    Cor_XY = (alpha[0]*alpha[3] - alpha[1]*alpha[2])*den\n",
    "    \n",
    "    return (E_X, E_Y, Var_X, Var_Y, Cor_XY)"
   ]
  },
  {
   "cell_type": "markdown",
   "id": "d55235bb",
   "metadata": {},
   "source": [
    "## From prior information to moments estimation \n",
    "\n",
    "The Bivariate Beta has four parameters and each marginal beta distribution has two parameters. We obtained that when  $m_1 = E[X], m_2 = E[Y], v_1 = Var[X],$ and $v_2 = Var[Y]$ are fixed, there is a solution if, and only if, \n",
    "\n",
    "\\begin{equation}\n",
    "  v_2  = \\frac{v_1(1 - m_2)}{m_1(1-m_1)},\n",
    "\\end{equation}\n",
    "\n",
    "and when the solution exists, there are infinitely many, described by the ray:\n",
    "\n",
    "$$\n",
    "\\mathcal{L} = \\{(1,-1,-1,1)\\alpha_4 + k : \\alpha_4 > 0\\}, \n",
    "$$\n",
    "\n",
    "such that $k = \\left((m_1 + m_2 - 1)\\tilde{\\alpha}, (1-m_2)\\tilde{\\alpha},\n",
    "(1-m_1)\\tilde{\\alpha}, 0\\right)$ and $\\tilde{\\alpha} = \\alpha_1 + \\dots +\n",
    "\\alpha_4$. \n",
    "\n",
    "If we fix $\\rho = Cor(X,Y)$, instead of fixing $Var[Y]$, the solution is\n",
    "unique. Now we gonna evaluate how big the difference of $v_2$ to the value of its\n",
    "inferred equation. As explained in the dissertation, we can write $\\alpha_1,\n",
    "\\alpha_2$, and $\\alpha_3$ as function of $\\alpha_4$, and $\\alpha_4$ as\n",
    "function of $\\rho$, when this is fixed. \n"
   ]
  },
  {
   "cell_type": "code",
   "execution_count": 2,
   "id": "a7961c85",
   "metadata": {},
   "outputs": [],
   "source": [
    "def alpha123_from_4(alpha4, m1, m2, v1): \n",
    "     \n",
    "    C = (m1 - m1*m1 - v1)/v1 \n",
    "    alpha1 = (m1 + m2 - 1)*C + alpha4 \n",
    "    alpha2 = (1 - m2)*C - alpha4 \n",
    "    alpha3 = (1 - m1)*C - alpha4 \n",
    "    \n",
    "    return (alpha1, alpha2, alpha3)\n",
    "\n",
    "def find_alpha4_from_corr(m1, m2, v1, rho):\n",
    "    \n",
    "    exp = rho + np.sqrt((1-m1)*(1-m2)/(m1*m2))\n",
    "    exp *= np.sqrt(m1*m2*(1-m1)*(1-m2))*(m1 - m1*m1 - v1)\n",
    "    alpha4 = exp/v1\n",
    "    \n",
    "    return alpha4\n",
    "\n",
    "def var_error(m1, m2, v1, v2): \n",
    "    \n",
    "    return abs(v2 - v1*(1-m2)/(m1*(1 - m1)))/v2"
   ]
  },
  {
   "cell_type": "markdown",
   "id": "c1fd03b8",
   "metadata": {},
   "source": [
    "Below we set the parameter $\\alpha$ and calculate the respective moments. "
   ]
  },
  {
   "cell_type": "code",
   "execution_count": 5,
   "id": "82d3e426",
   "metadata": {},
   "outputs": [
    {
     "name": "stdout",
     "output_type": "stream",
     "text": [
      "0.5660377358490566 0.4716981132075472 0.004548870693406115 0.004614796355629392 -0.3165549546879246\n"
     ]
    }
   ],
   "source": [
    "m1, m2, v1, v2, rho = moments_calculus([10, 20, 15, 8])\n",
    "print(m1, m2, v1, v2, rho)"
   ]
  },
  {
   "cell_type": "markdown",
   "id": "cb17d9d4",
   "metadata": {},
   "source": [
    "We already know there is no solution with these specified values. The relative\n",
    "is error for $v_2$ is \n",
    "\n",
    "\\begin{equation}\n",
    "  \\frac{|v_2  - \\frac{v_1(1 - m_2)}{m_1(1-m_1)}|}{v_2}.\n",
    "\\end{equation}\n",
    "\n",
    "In the case we are seeing, it is \n"
   ]
  },
  {
   "cell_type": "code",
   "execution_count": 6,
   "id": "1f13cc2b",
   "metadata": {},
   "outputs": [
    {
     "data": {
      "text/plain": [
       "1.1199999999999997"
      ]
     },
     "execution_count": 6,
     "metadata": {},
     "output_type": "execute_result"
    }
   ],
   "source": [
    "var_error(m1,m2,v1,v2)"
   ]
  },
  {
   "cell_type": "markdown",
   "id": "be064856",
   "metadata": {},
   "source": [
    "And we succeeded in finding the correct values from the functions we wrote. "
   ]
  },
  {
   "cell_type": "code",
   "execution_count": 8,
   "id": "83957448",
   "metadata": {},
   "outputs": [
    {
     "name": "stdout",
     "output_type": "stream",
     "text": [
      "10.000000000000005 20.0 14.999999999999998 8.000000000000005\n"
     ]
    }
   ],
   "source": [
    "alpha4 = find_alpha4_from_corr(m1,m2,v1,rho)\n",
    "alpha1, alpha2, alpha3 = alpha123_from_4(alpha4, m1, m2, v1)\n",
    "print(alpha1, alpha2, alpha3, alpha4)"
   ]
  },
  {
   "cell_type": "markdown",
   "id": "2c363b26",
   "metadata": {},
   "source": [
    "## Variance error for different studies \n",
    "\n",
    "Now we know that there is an error inherent to the modeling, so we would like\n",
    "to see how this error happens in different areas. We consider some studies\n",
    "from [this\n",
    "article](https://link.springer.com/article/10.1007/s12350-018-01485-y) that\n",
    "contains information about the estimated sensitivity and specificity and\n",
    "95%-CI for several studies. The data is divided in: First column is the\n",
    "estimated mean; Second column the lower bound; Third column the upper bound."
   ]
  },
  {
   "cell_type": "code",
   "execution_count": 8,
   "id": "0431209c",
   "metadata": {},
   "outputs": [],
   "source": [
    "data_sens = np.array([\n",
    "    [0.44, 0.37, 0.51],\n",
    "    [0.54, 0.35, 0.72],\n",
    "    [0.61, 0.39, 0.8], \n",
    "    [0.81,0.73,0.87],\n",
    "    [0.36,0.26,0.47],\n",
    "    [0.96,0.88,0.99]\n",
    "])\n",
    "data_spec = np.array([\n",
    "    [0.98, 0.94,0.99],\n",
    "    [0.98,0.89,1.0],\n",
    "    [0.9, 0.6,0.98], \n",
    "    [0.46,0.34,0.58],\n",
    "    [0.94,0.82,0.98],\n",
    "    [0.82,0.74,0.88]\n",
    "])"
   ]
  },
  {
   "cell_type": "markdown",
   "id": "3e4170b3",
   "metadata": {},
   "source": [
    "Remember that we want to obtain the expressions of the mean and variance for\n",
    "each random variable. The ideia is to find the parameters of the beta\n",
    "distribution marginals with the specific mean and approximated 95%-interval.\n",
    "The procedure is minimize the quadratic difference between the interval and\n",
    "the approximated one. The functions are below. \n",
    "\n",
    "We know that $\\mu = \\frac{\\alpha}{\\alpha + \\beta}$ is the mean of the beta\n",
    "distribution. Then $\\beta = \\frac{1 - \\mu}{\\mu}\\alpha$. "
   ]
  },
  {
   "cell_type": "code",
   "execution_count": 9,
   "id": "405daf2c",
   "metadata": {},
   "outputs": [],
   "source": [
    "def diff_cumulative_95(alpha, a, b, mu): \n",
    "    \n",
    "    bet = find_beta(alpha, mu)\n",
    "    X = beta(a = alpha, b = bet)\n",
    "    return (X.cdf(b) - X.cdf(a) - 0.95)**2\n",
    "    \n",
    "find_alpha = lambda mu, a, b: minimize(fun = diff_cumulative_95, x0 = (1,), args = (a, b, mu), bounds = [(0,np.inf)])\n",
    "find_beta = lambda alpha, mu: alpha*(1 - mu)/mu\n",
    "find_var = lambda alpha, bet: beta(a = alpha, b = bet).var()"
   ]
  },
  {
   "cell_type": "markdown",
   "id": "e62d85a9",
   "metadata": {},
   "source": [
    "Now we can apply these functions to data. In special, we calculate the error in the system of equations to determine $\\alpha$. "
   ]
  },
  {
   "cell_type": "code",
   "execution_count": 20,
   "id": "e64023b4",
   "metadata": {},
   "outputs": [],
   "source": [
    "results = np.zeros((data_spec.shape[0], 5))\n",
    "\n",
    "for i in range(data_spec.shape[0]): \n",
    "    \n",
    "    m1 = data_sens[i,0]\n",
    "    a1 = data_sens[i,1]\n",
    "    b1 = data_sens[i,2]\n",
    "    m2 = data_spec[i,0]\n",
    "    a2 = data_spec[i,1]\n",
    "    b2 = data_spec[i,2]\n",
    "    \n",
    "    alpha1 = find_alpha(m1, a1, b1).x[0]\n",
    "    beta1 = find_beta(alpha1, m1)\n",
    "    v1 = find_var(alpha1, beta1)\n",
    "    \n",
    "    alpha2 = find_alpha(m2, a2, b2).x[0]\n",
    "    beta2 = find_beta(alpha2, m2)\n",
    "    v2 = find_var(alpha2, beta2)\n",
    "    \n",
    "    results[i,:] = [m1,m2,v1,v2, var_error(m1,m2,v1,v2)]"
   ]
  },
  {
   "cell_type": "markdown",
   "id": "b51d7a4c",
   "metadata": {},
   "source": [
    "Below we observe that the error is not that big for these studies. "
   ]
  },
  {
   "cell_type": "code",
   "execution_count": 24,
   "id": "37bc3bd1",
   "metadata": {},
   "outputs": [
    {
     "data": {
      "image/png": "[encoded data removed]",
      "text/plain": [
       "<Figure size 432x288 with 1 Axes>"
      ]
     },
     "metadata": {
      "needs_background": "light"
     },
     "output_type": "display_data"
    }
   ],
   "source": [
    "x = results[:,4]\n",
    "hist, bins = np.histogram(x, bins=20)\n",
    "logbins = np.logspace(np.log10(bins[0]),np.log10(bins[-1]),len(bins))\n",
    "plt.hist(x, bins=logbins)\n",
    "plt.xscale('log')\n",
    "plt.title(r'Relative errors histogram of $v_2$ equation')\n",
    "plt.show()"
   ]
  },
  {
   "cell_type": "markdown",
   "id": "9b4cb99d",
   "metadata": {},
   "source": [
    "## Optimizing the choice of parameters $\\alpha$ \n",
    "\n",
    "We saw before that the system with 5 equations has a solution iff $v_2$ relates to a function of $m_1, m_2$, and $v_1$. This means that usually we will not find values for $\\alpha$ that satisfies the knowledge of the input. To overcome this problem, we can minimize the sum of differences of the equations. Let $g  : \\mathbb{R} \\times \\mathbb{R} \\to \\mathbb{R}$ be a loss function. Than, we want to minimize: \n",
    "\n",
    "$$\n",
    "    g\\left(m_1, \\dfrac{\\alpha_1+\\alpha_2}{\\tilde{\\alpha}}\\right) + \n",
    "    g\\left(m_2, \\dfrac{\\alpha_1+\\alpha_3}{\\tilde{\\alpha}}\\right) +  \n",
    "    g\\left(v_1, \\dfrac{(\\alpha_1+\\alpha_2)(\\alpha_3+\\alpha_4)}{\\tilde{\\alpha}^2(\\tilde{\\alpha}+1)}\\right) + \n",
    "    g\\left(v_2, \\dfrac{(\\alpha_1+\\alpha_3)(\\alpha_2+\\alpha_4)}{\\tilde{\\alpha}^2(\\tilde{\\alpha}+1)}\\right) + \n",
    "    g\\left(\\rho, \\frac{\\alpha_1\\alpha_4 - \\alpha_2\\alpha_3}{\\sqrt{(\\alpha_1+\\alpha_2)(\\alpha_3+\\alpha_4)(\\alpha_1+\\alpha_3 (\\alpha_2+\\alpha_4)}}\\right)\n",
    "$$\n",
    "\n",
    "such that $\\alpha_1, \\dots, \\alpha_4 > 0$. For instance, we can use the quadratic loss, the absolute loss, or other one. Since $m_i$ is much higher than $v_i$ ($i=1,2$) usually, one can think about a relative loss.  \n",
    "\n",
    "Here we will use $g(x,y) = (x - y)^2/x^2$. We also add a vetor parameter $c$\n",
    "of dimension four to have a weighted version. "
   ]
  },
  {
   "cell_type": "code",
   "execution_count": 46,
   "id": "d9c88fd6",
   "metadata": {},
   "outputs": [],
   "source": [
    "g = lambda x,y: (x - y)**2/x**2\n",
    "\n",
    "def loss_function(alpha, m1, m2, v1, v2, rho, g, c = [1,1,1,1]): \n",
    "    \n",
    "    alpha_tilde = sum(alpha)\n",
    "    div = alpha_tilde*alpha_tilde*(alpha_tilde + 1)\n",
    "    \n",
    "    alpha_12 = alpha[0] + alpha[1]\n",
    "    alpha_34 = alpha[2] + alpha[3]\n",
    "    alpha_13 = alpha[0] + alpha[2]\n",
    "    alpha_24 = alpha[1] + alpha[3]\n",
    "    \n",
    "    obj  = c[0]*g(m1, alpha_12/alpha_tilde)\n",
    "    obj += c[1]*g(m2, alpha_13/alpha_tilde)\n",
    "    obj += c[2]*g(v1, alpha_12*alpha_34/div)\n",
    "    obj += c[3]*g(v2, alpha_13*alpha_24/div)\n",
    "    obj += g(rho, (alpha[0]*alpha[3] - alpha[1]*alpha[2])/(np.sqrt(alpha_12*alpha_34*alpha_13*alpha_24)))\n",
    "    \n",
    "    return obj"
   ]
  },
  {
   "cell_type": "code",
   "execution_count": 39,
   "id": "b1c82adb",
   "metadata": {},
   "outputs": [],
   "source": [
    "m1, m2, v1, v2, rho = moments_calculus([10, 20, 15, 8])"
   ]
  },
  {
   "cell_type": "markdown",
   "id": "9b115ace",
   "metadata": {},
   "source": [
    "We are using the Trust Constraint algorithm. "
   ]
  },
  {
   "cell_type": "code",
   "execution_count": 40,
   "id": "5f9f3690",
   "metadata": {},
   "outputs": [],
   "source": [
    "minimizer = lambda m1, m2, v1, v2, rho, g: minimize(fun = loss_function, \n",
    "                                                 x0 = (1, 1, 1, 1), \n",
    "                                                 args = (m1, m2, v1, v2, rho, g),\n",
    "                                                 bounds = [(0, np.inf)]*4,\n",
    "                                                 method = 'trust-constr')"
   ]
  },
  {
   "cell_type": "markdown",
   "id": "28352ccc",
   "metadata": {},
   "source": [
    "Therefore we can obtain very similar values for the parameters. "
   ]
  },
  {
   "cell_type": "code",
   "execution_count": 41,
   "id": "bd2ed56f",
   "metadata": {},
   "outputs": [
    {
     "data": {
      "text/plain": [
       "array([ 9.99999842, 19.99999856, 15.00000064,  8.00000123])"
      ]
     },
     "execution_count": 41,
     "metadata": {},
     "output_type": "execute_result"
    }
   ],
   "source": [
    "minimizer(m1,m2,v1,v2,rho, g).x"
   ]
  },
  {
   "cell_type": "markdown",
   "id": "23130813",
   "metadata": {},
   "source": [
    "### Some remarks\n",
    "\n",
    "Sometimes the initial guess $x_0$ is very important as we can see below: "
   ]
  },
  {
   "cell_type": "code",
   "execution_count": 42,
   "id": "90889666",
   "metadata": {},
   "outputs": [
    {
     "name": "stderr",
     "output_type": "stream",
     "text": [
      "<ipython-input-38-31fea47f0948>:17: RuntimeWarning: invalid value encountered in sqrt\n",
      "  obj += g(rho, (alpha[0]*alpha[3] - alpha[1]*alpha[2])/(np.sqrt(alpha_12*alpha_34*alpha_13*alpha_24)))\n"
     ]
    },
    {
     "name": "stdout",
     "output_type": "stream",
     "text": [
      "The $\\alpha$ values for $x_0$ = [1,1,1,1] : [ 5.95645052  9.57916648 18.26099611 24.06254702]\n",
      "The $\\alpha$ values for $x_0$ = [1,1,1,5] : [ 1.00000012  1.00000012  2.00000023 20.00000114]\n"
     ]
    }
   ],
   "source": [
    "m1, m2, v1, v2, rho = moments_calculus([1, 1, 2, 20])\n",
    "\n",
    "minimizer = lambda m1, m2, v1, v2, rho, g, x0: minimize(fun = loss_function, \n",
    "                                                 x0 = x0, \n",
    "                                                 args = (m1, m2, v1, v2, rho, g),\n",
    "                                                 bounds = [(0, np.inf)]*4,\n",
    "                                                 method = 'trust-constr')\n",
    "\n",
    "print(r'The $\\alpha$ values for $x_0$ = [1,1,1,1] : {}'.format(minimizer(m1,m2,v1,v2,rho,g, x0 = [1,1,1,1]).x))\n",
    "print(r'The $\\alpha$ values for $x_0$ = [1,1,1,5] : {}'.format(minimizer(m1,m2,v1,v2,rho,g, x0 = [1,1,1,5]).x))"
   ]
  },
  {
   "cell_type": "markdown",
   "id": "c1b2cc99",
   "metadata": {},
   "source": [
    "Other metrics can be considered:"
   ]
  },
  {
   "cell_type": "code",
   "execution_count": 50,
   "id": "4a617a15",
   "metadata": {},
   "outputs": [
    {
     "name": "stdout",
     "output_type": "stream",
     "text": [
      "The $\\alpha$ values for $c$ = [1,1,1,1], g = quadratic : [1.00022465 5.00111485 6.00133688 3.00066687]\n",
      "The $\\alpha$ values for $c$ = [1,1,10,10], g = quadratic : [1.00002614 5.00012205 6.0001456  3.00007131]\n",
      "The $\\alpha$ values for $c$ = [1,1,1,1], g = relative quadratic : [1.00000012 5.00000005 6.00000004 2.99999992]\n",
      "The $\\alpha$ values for $c$ = [1,1,10,10], g = relative quadratic : [1.0000003  4.99999993 6.00000016 2.99999976]\n"
     ]
    }
   ],
   "source": [
    "m1, m2, v1, v2, rho = moments_calculus([1, 5, 6, 3])\n",
    "\n",
    "h = lambda x,y: (x - y)**2\n",
    "\n",
    "minimizer = lambda m1, m2, v1, v2, rho, g, c: minimize(fun = loss_function, \n",
    "                                                 x0 = [1,1,1,1], \n",
    "                                                 args = (m1, m2, v1, v2, rho, g, c),\n",
    "                                                 bounds = [(0, np.inf)]*4,\n",
    "                                                 method = 'trust-constr')\n",
    "\n",
    "print(r'The $\\alpha$ values for $c$ = [1,1,1,1], g = quadratic : {}'.format(minimizer(m1,m2,v1,v2,rho,h, c = [1,1,1,1]).x))\n",
    "print(r'The $\\alpha$ values for $c$ = [1,1,10,10], g = quadratic : {}'.format(minimizer(m1,m2,v1,v2,rho,h, c = [1,1,10,10]).x))\n",
    "\n",
    "print(r'The $\\alpha$ values for $c$ = [1,1,1,1], g = relative quadratic : {}'.format(minimizer(m1,m2,v1,v2,rho,g, c = [1,1,1,1]).x))\n",
    "print(r'The $\\alpha$ values for $c$ = [1,1,10,10], g = relative quadratic : {}'.format(minimizer(m1,m2,v1,v2,rho,g, c = [1,1,10,10]).x))"
   ]
  },
  {
   "cell_type": "markdown",
   "id": "bf0296fd",
   "metadata": {},
   "source": [
    "In order to avoid numerical instability, the weighted quadratic loss can be\n",
    "useful. Other approaches consider working on the log space. "
   ]
  },
  {
   "cell_type": "code",
   "execution_count": 51,
   "id": "0df5cd5e",
   "metadata": {},
   "outputs": [
    {
     "name": "stdout",
     "output_type": "stream",
     "text": [
      "The $\\alpha$ values for $c$ = [1,1,1,1], g = quadratic : [ 0.99980931  4.99903681 29.99420084  2.99941935]\n",
      "The $\\alpha$ values for $c$ = [1,1,10,10], g = quadratic : [ 1.00005621  5.00024359 30.00144243  3.00013576]\n"
     ]
    },
    {
     "name": "stderr",
     "output_type": "stream",
     "text": [
      "<ipython-input-46-31fea47f0948>:17: RuntimeWarning: invalid value encountered in sqrt\n",
      "  obj += g(rho, (alpha[0]*alpha[3] - alpha[1]*alpha[2])/(np.sqrt(alpha_12*alpha_34*alpha_13*alpha_24)))\n"
     ]
    },
    {
     "name": "stdout",
     "output_type": "stream",
     "text": [
      "The $\\alpha$ values for $c$ = [1,1,1,1], g = relative quadratic : [12.06113407 12.51811526 15.80903712 15.22546877]\n",
      "The $\\alpha$ values for $c$ = [1,1,10,10], g = relative quadratic : [ 0.16084446 11.05337092 33.44723718 10.10904155]\n"
     ]
    }
   ],
   "source": [
    "m1, m2, v1, v2, rho = moments_calculus([1, 5, 30, 3])\n",
    "\n",
    "h = lambda x,y: (x - y)**2\n",
    "\n",
    "minimizer = lambda m1, m2, v1, v2, rho, g, c: minimize(fun = loss_function, \n",
    "                                                 x0 = [1,1,1,1], \n",
    "                                                 args = (m1, m2, v1, v2, rho, g, c),\n",
    "                                                 bounds = [(0, np.inf)]*4,\n",
    "                                                 method = 'trust-constr')\n",
    "\n",
    "print(r'The $\\alpha$ values for $c$ = [1,1,1,1], g = quadratic : {}'.format(minimizer(m1,m2,v1,v2,rho,h, c = [1,1,1,1]).x))\n",
    "print(r'The $\\alpha$ values for $c$ = [1,1,10,10], g = quadratic : {}'.format(minimizer(m1,m2,v1,v2,rho,h, c = [1,1,10,10]).x))\n",
    "\n",
    "print(r'The $\\alpha$ values for $c$ = [1,1,1,1], g = relative quadratic : {}'.format(minimizer(m1,m2,v1,v2,rho,g, c = [1,1,1,1]).x))\n",
    "print(r'The $\\alpha$ values for $c$ = [1,1,10,10], g = relative quadratic : {}'.format(minimizer(m1,m2,v1,v2,rho,g, c = [1,1,10,10]).x))"
   ]
  }
 ],
 "metadata": {
  "interpreter": {
   "hash": "5ed45aeb2f80697313442a6637689c7cea9f5cd323e50e2056a37945d13c6921"
  },
  "kernelspec": {
   "display_name": "Python 3",
   "language": "python",
   "name": "python3"
  },
  "language_info": {
   "codemirror_mode": {
    "name": "ipython",
    "version": 3
   },
   "file_extension": ".py",
   "mimetype": "text/x-python",
   "name": "python",
   "nbconvert_exporter": "python",
   "pygments_lexer": "ipython3",
   "version": "3.7.1"
  }
 },
 "nbformat": 4,
 "nbformat_minor": 5
}
