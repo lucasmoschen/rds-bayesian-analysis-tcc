{
 "cells": [
  {
   "cell_type": "markdown",
   "id": "24ad232b",
   "metadata": {},
   "source": [
    "# Sensitivity and specificity\n",
    "\n",
    "In real life, the outcome of interest is measured with imperfect test. Misclassification induced by such an imperfect diagnostic test will lead to biased estimates of the odds ratios and their variances. In that regard, it is important to consider *sensitivity* and *specificity* of the diagnostic. Prior information of these quantities lead to a bivariate analysis {cite:t}`guo2017bayesian`. As we have already mentioned, the definitions of *sensitivity* and\n",
    "*specificity* can be expressed as below: \n",
    "\n",
    "Let $Y_i$ be the indicator function of the $i^{th}$ individual's exposure to the disease, and $T_i$\n",
    "indicating whether the test of the $i^{th}$ individual is positive at time\n",
    "$t$ with $\\Pr(X = 1) = \\theta$ and $\\Pr(T = 1) = p$. We say that\n",
    "$\\theta$ is the prevalence and $p$ is the apparent prevalence in the\n",
    "population. \n",
    "\n",
    "**Specificity**\n",
    "  Probability of a negative test correctly identified. In mathematical terms,\n",
    "  conditioned on $Y = 0$, the *specificity* $\\gamma_e$ is the probability of $T = 0$:\n",
    "  \n",
    "  \\begin{equation}\n",
    "    \\gamma_e = \\Pr(T = 0|Y = 0). \n",
    "  \\end{equation} \n",
    "\n",
    "**Sensitivity**\n",
    "  Probability of a positive test correctly identified. In mathematical terms,\n",
    "  conditioned on $Y = 1$, the *sensitivity* $\\gamma_s$ is the probability of $T = 1$: \n",
    "  \n",
    "  \\begin{equation}\n",
    "    \\gamma_s = \\Pr(T = 1|Y = 1). \n",
    "  \\end{equation} \n",
    "\n",
    "These quantities are related by the following equation:\n",
    "\n",
    "  \\begin{equation}\n",
    "    p = \\gamma_s\\theta + (1-\\gamma_e)(1-\\theta).\n",
    "  \\end{equation}"
   ]
  },
  {
   "cell_type": "markdown",
   "id": "57f00b54",
   "metadata": {},
   "source": [
    "## How can we model these quantities \n",
    "\n",
    "We know that these quantities are defined in the square $[0,1] \\times [0,1]$,\n",
    "since they are probabilities. In the model section, we will see that they are\n",
    "treated as constant for all individuals, that is, their distributions do not\n",
    "change from individual to individual. Because of that, we only need to specify\n",
    "a probability distribution over this space. For the prior distribution, prior\n",
    "information about has to influence our choice of this distribution. We could\n",
    "define independent Beta distributions for sensitivity and specificity, since\n",
    "this distribution is very flexible and conjugate with the Binomial (which can\n",
    "be used to model number of positive tests in exposed individuals, for\n",
    "instance). However, we want to consider the correlation between them, which is\n",
    "observed by specialists. Below we see this effect on the study\n",
    "{cite}`peng2020diagnostic`. Note that the dependence seems not to be linear,\n",
    "though. \n",
    "\n",
    "Hence, to consider this correlation, we will use the work of\n",
    "{cite:t}`olkin2015constructions`, a Bivariate Beta distribution. "
   ]
  },
  {
   "cell_type": "code",
   "execution_count": 34,
   "id": "feae05d0",
   "metadata": {},
   "outputs": [
    {
     "data": {
      "image/png": "[encoded data removed]",
      "text/plain": [
       "<Figure size 432x288 with 1 Axes>"
      ]
     },
     "metadata": {},
     "output_type": "display_data"
    }
   ],
   "source": [
    "import pandas as pd \n",
    "import seaborn as sns\n",
    "import matplotlib.pyplot as plt\n",
    "sns.set()\n",
    "\n",
    "telomerase_data = pd.read_csv('../data/telomerase_meta_analysis.csv', delim_whitespace=True)\n",
    "telomerase_data['sens'] = telomerase_data.apply(lambda x: x['TP'] / (x['TP'] + x['FN']), axis=1)\n",
    "telomerase_data['spec'] = telomerase_data.apply(lambda x: x['TN'] / (x['TN'] + x['FP']), axis=1)\n",
    "\n",
    "sns.scatterplot(data = telomerase_data, x = 'spec', y = 'sens', color = 'darkgrey')\n",
    "plt.title('Specificity and Sensitivity in Telomerase meta analysis')\n",
    "\n",
    "plt.show()"
   ]
  }
 ],
 "metadata": {
  "interpreter": {
   "hash": "5ed45aeb2f80697313442a6637689c7cea9f5cd323e50e2056a37945d13c6921"
  },
  "kernelspec": {
   "display_name": "Python 3",
   "language": "python",
   "name": "python3"
  },
  "language_info": {
   "codemirror_mode": {
    "name": "ipython",
    "version": 3
   },
   "file_extension": ".py",
   "mimetype": "text/x-python",
   "name": "python",
   "nbconvert_exporter": "python",
   "pygments_lexer": "ipython3",
   "version": "3.7.1"
  }
 },
 "nbformat": 4,
 "nbformat_minor": 5
}
