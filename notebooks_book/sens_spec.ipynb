{
 "cells": [
  {
   "cell_type": "markdown",
   "id": "64482309-2783-4e1e-a7c1-8f4f77006bbb",
   "metadata": {},
   "source": [
    "# Sensitivity and specificity\n",
    "\n",
    "Let $I$ be a index set and $Y_i$ be the indicator function of the $i^{th}$ individual's exposure to the disease, and $T_i$\n",
    "indicating whether the test of the $i^{th}$ individual is positive at time\n",
    "$t$. Suppose that $\\{Y_i\\}_{i \\in I}$ and $\\{T_i\\}_{i \\in I}$ are two independent and identically distributed\n",
    "random variables with $\\Pr(X = 1) = \\theta$ and $\\Pr(T = 1) = p$. We say that\n",
    "$\\theta$ is the prevalence and $p$ is the apparent prevalence in the\n",
    "population. \n",
    "\n",
    "If the test is perfect, then for every $i$, $T_i = Y_i$, and\n",
    "$\\theta = p$ (with probability one when they are random variables).\n",
    "Unfortunately, this is not true in the real world, what makes important to\n",
    "regard the evaluation of the diagnostic, and the following definitions are used:\n",
    "\n",
    "**Specificity**\n",
    "  Probability of a negative test correctly identified. In mathematical terms,\n",
    "  conditioned on $Y = 0$, the {\\em specificity} $\\gamma_e$ is the probability of $T = 0$:\n",
    "  \n",
    "  \\begin{equation}\n",
    "    \\gamma_e = \\Pr(T = 0|Y = 0). \n",
    "  \\end{equation} \n",
    "\n",
    "**Sensitivity**\n",
    "  Probability of a positive test correctly identified. In mathematical terms,\n",
    "  conditioned on $Y = 1$, the {\\em sensitivity} $\\gamma_s$ is the probability of $T = 1$: \n",
    "  \n",
    "  \\begin{equation}\n",
    "    \\gamma_s = \\Pr(T = 1|Y = 1). \n",
    "  \\end{equation} \n",
    "\n",
    "\n",
    "\n",
    "These quantities are related by the following equation:\n",
    "\n",
    "  \\begin{equation}\n",
    "    p = \\gamma_s\\theta + (1-\\gamma_e)(1-\\theta).\n",
    "  \\end{equation}"
   ]
  },
  {
   "cell_type": "markdown",
   "id": "6e743181-2ea5-4481-b7dc-8889150d5a04",
   "metadata": {},
   "source": [
    "## How can we model these quantities \n",
    "\n"
   ]
  },
  {
   "cell_type": "code",
   "execution_count": null,
   "id": "59ae8053-b407-4c76-89db-b4bbc75143d2",
   "metadata": {},
   "outputs": [],
   "source": []
  }
 ],
 "metadata": {
  "kernelspec": {
   "display_name": "tcc-rds",
   "language": "python",
   "name": "tcc-rds"
  },
  "language_info": {
   "codemirror_mode": {
    "name": "ipython",
    "version": 3
   },
   "file_extension": ".py",
   "mimetype": "text/x-python",
   "name": "python",
   "nbconvert_exporter": "python",
   "pygments_lexer": "ipython3",
   "version": "3.9.5"
  }
 },
 "nbformat": 4,
 "nbformat_minor": 5
}
