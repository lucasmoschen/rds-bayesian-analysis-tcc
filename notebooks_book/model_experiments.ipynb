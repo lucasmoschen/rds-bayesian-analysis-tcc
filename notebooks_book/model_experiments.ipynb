{
 "cells": [
  {
   "cell_type": "markdown",
   "source": [
    "# Model experiments\n",
    "\n"
   ],
   "metadata": {}
  },
  {
   "cell_type": "code",
   "execution_count": 27,
   "source": [
    "import numpy as np\n",
    "import pandas as pd\n",
    "import pystan as ps\n",
    "import stan_utility\n",
    "from scipy.special import logit, expit\n",
    "import networkx as nx\n",
    "from networkx.drawing.nx_pydot import graphviz_layout\n",
    "\n",
    "import matplotlib.pyplot as plt\n",
    "import seaborn as sns\n",
    "import arviz as az\n",
    "\n",
    "import pickle\n",
    "from tqdm.notebook import tqdm\n",
    "\n",
    "import sys  \n",
    "sys.path.insert(0, '../scripts/')\n",
    "\n",
    "from artificial_data import GenerateData"
   ],
   "outputs": [],
   "metadata": {}
  },
  {
   "cell_type": "markdown",
   "source": [
    "## Notebook settings"
   ],
   "metadata": {}
  },
  {
   "cell_type": "code",
   "execution_count": 5,
   "source": [
    "sns.set()\n",
    "plt.rc('mathtext', fontset=\"cm\")\n",
    "ro = np.random.RandomState(1000)\n",
    "%matplotlib inline"
   ],
   "outputs": [],
   "metadata": {}
  }
 ],
 "metadata": {
  "kernelspec": {
   "display_name": "tcc-rds",
   "language": "python",
   "name": "tcc-rds"
  },
  "language_info": {
   "codemirror_mode": {
    "name": "ipython",
    "version": 3
   },
   "file_extension": ".py",
   "mimetype": "text/x-python",
   "name": "python",
   "nbconvert_exporter": "python",
   "pygments_lexer": "ipython3",
   "version": "3.9.5"
  }
 },
 "nbformat": 4,
 "nbformat_minor": 5
}