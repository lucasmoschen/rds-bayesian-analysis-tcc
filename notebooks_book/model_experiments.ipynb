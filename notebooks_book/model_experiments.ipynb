{
 "cells": [
  {
   "cell_type": "markdown",
   "id": "5da7a2cc",
   "metadata": {},
   "source": [
    "# Modelling Respondent-driven sampling \n",
    "\n",
    "Following the study about sensibility and specificity, we want to add one more\n",
    "layer of interest. In general circunstancies, one can enumerate the population\n",
    "and get independent samples from it. However, in some cases, the sampling has\n",
    "some kind of correlation, such as the case with Respondent-driven sampling\n",
    "(RDS). Remind that in RDS, the samples are by definition correlated, given\n",
    "that the respondents receive incentives to be recruiters. Because of that, we\n",
    "need to know first if this correlation bias the estimates (several studies\n",
    "have already shown that considering independent samples for RDS is a bad\n",
    "choice) or without taking it into account, we underestimate the uncertainty. \n",
    "\n",
    "Because of that, we separate our modelling in three (which can be changed to\n",
    "four if possible) steps: \n",
    "\n",
    "1. Perfect tests and independent samples: Here we disregard the sensibility\n",
    "   and specificity of the test and the samples are considered independent. \n",
    "2. Imperfect tests and independent samples: The tests are assumed to have\n",
    "   error of measure. The case in which sensitivity and specificity are known\n",
    "   is compared to the case where they have a non-degenerate probability\n",
    "   distribution. \n",
    "3. Imperfect tests and Respondent-driven sampling: Here we consider RDS as a\n",
    "   fixed random effect. \n",
    "4. Imperfect tests and RDS with missing data: The more complex model, where\n",
    "   the random effect depend on the distribution of RDS.  \n",
    "\n",
    "The ideia is to build each step and compare with the previous one. Because of\n",
    "that, after the specific tests of functionality for each model, we compare all\n",
    "of them with the same data. "
   ]
  },
  {
   "cell_type": "markdown",
   "id": "88c48096",
   "metadata": {},
   "source": []
  }
 ],
 "metadata": {
  "kernelspec": {
   "display_name": "tcc-rds",
   "language": "python",
   "name": "tcc-rds"
  },
  "language_info": {
   "codemirror_mode": {
    "name": "ipython",
    "version": 3
   },
   "file_extension": ".py",
   "mimetype": "text/x-python",
   "name": "python",
   "nbconvert_exporter": "python",
   "pygments_lexer": "ipython3",
   "version": "3.9.7"
  }
 },
 "nbformat": 4,
 "nbformat_minor": 5
}
