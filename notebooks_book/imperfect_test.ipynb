{
 "cells": [
  {
   "cell_type": "markdown",
   "source": [
    "# Imperfect tests\n",
    "\n",
    "This model includes the sensitivity and specificity of the diagnostic test. \n",
    "\n",
    "\\begin{equation}\n",
    "  \\begin{aligned}\n",
    "    T_i &\\sim \\operatorname{Bernoulli}(p_i) \\\\\n",
    "    p_i &= \\gamma_s\\theta_i + (1-\\gamma_e)(1 - \\theta_i),  \\\\\n",
    "    g(\\theta_i) &= g(\\theta) + \\boldsymbol{x}_i^T\\beta,  \\\\\n",
    "    \\beta &\\sim \\operatorname{Normal}(\\mu, \\Sigma), \\\\ \n",
    "    \\theta &\\sim \\operatorname{Beta}(a^p, b^p) \\\\\n",
    "    \\gamma_s &\\sim \\operatorname{Beta}(a^s, b^s), \\\\\n",
    "    \\gamma_e &\\sim \\operatorname{Beta}(a^e, b^e), \\\\    \n",
    "  \\end{aligned}  \n",
    "\\end{equation}\n",
    "\n",
    "where $a^p, a^s, a^e, b^p, b^s, b^e \\in \\mathbb{R}_{++}$ are fixed hyperparameters.\n",
    "This model does not include prior knowledge about the correlation between specificity and sensitivity. \n"
   ],
   "metadata": {}
  },
  {
   "cell_type": "code",
   "execution_count": 27,
   "source": [
    "import numpy as np\n",
    "import pandas as pd\n",
    "import pystan as ps\n",
    "from scipy.special import logit, expit\n",
    "import networkx as nx\n",
    "from networkx.drawing.nx_pydot import graphviz_layout\n",
    "\n",
    "import matplotlib.pyplot as plt\n",
    "import seaborn as sns\n",
    "import arviz as az\n",
    "\n",
    "import pickle\n",
    "from tqdm.notebook import tqdm\n",
    "\n",
    "import sys  \n",
    "sys.path.insert(0, '../scripts/')\n",
    "\n",
    "from artificial_data import GenerateData"
   ],
   "outputs": [],
   "metadata": {}
  },
  {
   "cell_type": "markdown",
   "source": [
    "## Notebook settings"
   ],
   "metadata": {}
  },
  {
   "cell_type": "code",
   "execution_count": 5,
   "source": [
    "sns.set()\n",
    "plt.rc('mathtext', fontset=\"cm\")\n",
    "ro = np.random.RandomState(1000)\n",
    "%matplotlib inline"
   ],
   "outputs": [],
   "metadata": {}
  },
  {
   "cell_type": "code",
   "execution_count": 4,
   "source": [
    "#compiled = False\n",
    "compiled = True"
   ],
   "outputs": [],
   "metadata": {}
  },
  {
   "cell_type": "code",
   "execution_count": 17,
   "source": [
    "if compiled: \n",
    "    sm = pickle.load(open('pickles/imperfect_test.pkl', 'rb'))\n",
    "else: \n",
    "    sm = ps.StanModel(file = 'stan_codes/imperfect_test.stan')\n",
    "    with open('pickles/imperfect_test.pkl', 'wb') as f:\n",
    "        pickle.dump(sm, f)"
   ],
   "outputs": [],
   "metadata": {}
  },
  {
   "cell_type": "markdown",
   "source": [
    "### Data\n",
    "\n",
    "First we describe data created artificially. "
   ],
   "metadata": {}
  },
  {
   "cell_type": "code",
   "execution_count": 18,
   "source": [
    "spec = 0.85\n",
    "sens = 0.8\n",
    "\n",
    "beta = np.array([0.1, 2.5, -1.0, 1.2, 0.3]).reshape(-1,1)\n",
    "prevalence = 0.1\n",
    "\n",
    "theta = expit(logit(prevalence) + x@beta)\n",
    "p = sens*theta + (1 - spec)*(1 - theta)\n",
    "\n",
    "T = ro.binomial(n = 1, p = p)\n",
    "\n",
    "alpha_s = 4\n",
    "beta_s  = 1\n",
    "alpha_e = 4\n",
    "beta_e  = 1\n",
    "\n",
    "data = {\n",
    "    \"n_samples\"    : n_samples,\n",
    "    \"n_predictors\" : n_predictors,\n",
    "    \"T\"            : T.flatten(),\n",
    "    \"x\"            : x,\n",
    "    \n",
    "    \"Sigma\"        : Sigma,\n",
    "    \"mu\"           : mu,\n",
    "    \"alpha_p\"      : alpha_p,\n",
    "    \"beta_p\"       : beta_p,\n",
    "    \"alpha_s\"      : alpha_s,\n",
    "    \"beta_s\"       : beta_s,\n",
    "    \"alpha_e\"      : alpha_e,\n",
    "    \"beta_e\"       : beta_e,\n",
    "}\n",
    "\n",
    "T.mean()"
   ],
   "outputs": [
    {
     "output_type": "execute_result",
     "data": {
      "text/plain": [
       "0.34"
      ]
     },
     "metadata": {},
     "execution_count": 18
    }
   ],
   "metadata": {}
  },
  {
   "cell_type": "markdown",
   "source": [
    "And we apply it"
   ],
   "metadata": {}
  },
  {
   "cell_type": "code",
   "execution_count": 48,
   "source": [
    "fit_imperfect = sm.sampling(data=data, iter=5000)\n",
    "summary = az.summary(fit_imperfect)"
   ],
   "outputs": [],
   "metadata": {}
  },
  {
   "cell_type": "markdown",
   "source": [
    "First we observe the relation between $\\theta_i$ and $p_i$ among the individuals. "
   ],
   "metadata": {}
  },
  {
   "cell_type": "code",
   "execution_count": 88,
   "source": [
    "theta_values = summary[summary.index.str.contains('theta')]['mean']\n",
    "p_values = summary[summary.index.str.contains('p\\[')]['mean']\n",
    "\n",
    "line_parameters = np.polyfit(theta_values, p_values, deg = 1)\n",
    "\n",
    "spec_hat = summary.loc['spec', 'mean']\n",
    "sens_hat = summary.loc['sens', 'mean']\n",
    "\n",
    "plt.scatter(theta_values, p_values)\n",
    "plt.plot(theta_values, theta_values * line_parameters[0] + line_parameters[1], \n",
    "         color = 'red', label = 'Fitted line')\n",
    "plt.plot(theta_values, theta_values * (spec_hat + sens_hat - 1) + (1 - spec_hat), \n",
    "         color = 'green', label = 'Expected line', linestyle = '--')\n",
    "plt.title('Estimated values of p and theta')\n",
    "plt.xlabel(r'$\\theta$')\n",
    "plt.ylabel(r'$p$')\n",
    "plt.legend()\n",
    "plt.show()"
   ],
   "outputs": [
    {
     "output_type": "display_data",
     "data": {
      "image/png": "[encoded data removed]",
      "text/plain": [
       "<Figure size 432x288 with 1 Axes>"
      ]
     },
     "metadata": {
      "needs_background": "light"
     }
    }
   ],
   "metadata": {}
  }
 ],
 "metadata": {
  "kernelspec": {
   "display_name": "tcc-rds",
   "language": "python",
   "name": "tcc-rds"
  },
  "language_info": {
   "codemirror_mode": {
    "name": "ipython",
    "version": 3
   },
   "file_extension": ".py",
   "mimetype": "text/x-python",
   "name": "python",
   "nbconvert_exporter": "python",
   "pygments_lexer": "ipython3",
   "version": "3.9.5"
  }
 },
 "nbformat": 4,
 "nbformat_minor": 5
}