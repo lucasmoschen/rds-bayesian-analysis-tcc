{
 "cells": [
  {
   "cell_type": "markdown",
   "id": "57987924",
   "metadata": {},
   "source": [
    "# Introduction \n",
    "\n",
    "This set of notebooks aim to present the central codes and experiments for my Bachelor Dissertation entitled *Bayesian Analysis of Respondent-Driven Surveys with outcome uncertainty*. The main text will be available after the presentation to the examination board in PDF format. \n",
    "\n",
    "The topics discussed here can be summarized as follows: \n",
    "\n",
    "1. Respondent-driven sampling (RDS);\n",
    "2. Prevalence estimation with a model approach;  \n",
    "3. Sensitivity and specificity;\n",
    "\n",
    "Some notebooks regarding analysis of (RDS) datasets are also available. \n",
    "\n",
    "# Summary about the topic \n",
    "\n",
    "XXX: add summary from the dissertation\n",
    "\n",
    "Hard-to-reach or hidden populations are populations without an individual\n",
    "enumeration since size and boundaries are unknown to the researches. From the\n",
    "survey methods used to extract information from them, since 1997,\n",
    "Respondent-driven sampling (RDS) is increasing its importance. It is a method\n",
    "based on a chain-referral process, in which the respondents have incentives to\n",
    "recruit their peers. In this scenario, prevalence, the proportion of exposed\n",
    "individuals in a population at time $t$ is a key quantity for\n",
    "epidemiologists and public health researches. "
   ]
  }
 ],
 "metadata": {
  "kernelspec": {
   "display_name": "tcc-rds",
   "language": "python",
   "name": "tcc-rds"
  },
  "language_info": {
   "codemirror_mode": {
    "name": "ipython",
    "version": 3
   },
   "file_extension": ".py",
   "mimetype": "text/x-python",
   "name": "python",
   "nbconvert_exporter": "python",
   "pygments_lexer": "ipython3",
   "version": "3.9.7"
  }
 },
 "nbformat": 4,
 "nbformat_minor": 5
}
