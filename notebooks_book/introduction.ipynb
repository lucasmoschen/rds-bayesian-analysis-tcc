{
 "cells": [
  {
   "cell_type": "markdown",
   "id": "15d6b39e-2e15-416c-a328-0085ff2612b9",
   "metadata": {},
   "source": [
    "# Introduction \n",
    "\n",
    "This set of notebooks intends to present the main codes and experiments for my Bachelor Dissertation about *Bayesian Analysis of Respondent-Driven Surveys with outcome uncertanty*. The main text will be available after the presentation to the examination board in format PDF. \n",
    "\n",
    "The discussion topics here can be summarized as follows: \n",
    "\n",
    "1. Respondent-driven sampling (RDS); \n",
    "2. Sensitivity and specificity;\n",
    "3. Prevalence estimation with a model approach; \n",
    "\n",
    "Some notebooks regarding analyis of (RDS) datasets are also available. "
   ]
  }
 ],
 "metadata": {
  "kernelspec": {
   "display_name": "tcc-rds",
   "language": "python",
   "name": "tcc-rds"
  },
  "language_info": {
   "codemirror_mode": {
    "name": "ipython",
    "version": 3
   },
   "file_extension": ".py",
   "mimetype": "text/x-python",
   "name": "python",
   "nbconvert_exporter": "python",
   "pygments_lexer": "ipython3",
   "version": "3.9.5"
  }
 },
 "nbformat": 4,
 "nbformat_minor": 5
}
