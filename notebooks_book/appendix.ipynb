{
 "cells": [
  {
   "cell_type": "markdown",
   "id": "ca107a4e-17dc-4d22-bcf8-9f544fdbf8bf",
   "metadata": {},
   "source": [
    "# Apendix"
   ]
  },
  {
   "cell_type": "code",
   "execution_count": null,
   "id": "d4bb9d4b-0b67-4dd3-9880-d7fdd56aceba",
   "metadata": {},
   "outputs": [],
   "source": []
  }
 ],
 "metadata": {
  "kernelspec": {
   "display_name": "tcc-rds",
   "language": "python",
   "name": "tcc-rds"
  },
  "language_info": {
   "codemirror_mode": {
    "name": "ipython",
    "version": 3
   },
   "file_extension": ".py",
   "mimetype": "text/x-python",
   "name": "python",
   "nbconvert_exporter": "python",
   "pygments_lexer": "ipython3",
   "version": "3.9.5"
  }
 },
 "nbformat": 4,
 "nbformat_minor": 5
}
