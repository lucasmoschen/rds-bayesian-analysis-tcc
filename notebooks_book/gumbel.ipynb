{
 "cells": [
  {
   "cell_type": "markdown",
   "id": "721952ae-6f11-4db9-a160-cfddae80f516",
   "metadata": {},
   "source": [
    "# Gumbel Type II\n",
    "\n",
    "The classical notion of a random effect has proven to be a convenient way to introduce association and unobserved heterogeneity. We will now derive the PC prior for the precision parameter $\\tau$ for a Gaussian random effect $x$, where $x \\sim N(0, \\tau^{-1}R^{-1})$, with $R \\ge 0$ known. In allowing R to be indefinite, this derivation also includes popular intrinsic models such as CAR and thinplate spline models. The natural base model is the absence of random effects, which\n",
    "corresponds to $\\tau = \\infty$. In the rank deficient case, the natural base model is that the effect belongs to the nullspace of $R$, which also corresponds to $\\tau = \\infty$. This base model leads to a useful negative result.\n",
    "\n",
    "The PC prior for $\\tau$ is, except for in the specification of $\\lambda$, independent of $R$ and expressed below \n",
    "\n",
    "$$\n",
    "\\pi(\\tau) = \\frac{\\lambda}{2} \\tau^{-3/2} \\exp(-\\lambda \\tau^{-1/2})\n",
    "$$\n"
   ]
  },
  {
   "cell_type": "code",
   "execution_count": 2,
   "id": "84a1019f-6b69-424d-883c-69f4849d4974",
   "metadata": {},
   "outputs": [],
   "source": [
    "import numpy as np\n",
    "import pystan as ps\n",
    "import stan_utility\n",
    "\n",
    "import matplotlib.pyplot as plt\n",
    "import seaborn as sns\n",
    "import arviz as az\n",
    "\n",
    "import pickle"
   ]
  },
  {
   "cell_type": "markdown",
   "id": "80680078-3135-45ee-9939-7748b33d3a11",
   "metadata": {},
   "source": [
    "For that, we consider a very simple model. "
   ]
  },
  {
   "cell_type": "code",
   "execution_count": 24,
   "id": "79e5bc48-1ba4-4879-a69e-9bcad74f3851",
   "metadata": {},
   "outputs": [
    {
     "name": "stderr",
     "output_type": "stream",
     "text": [
      "INFO:pystan:COMPILING THE C++ CODE FOR MODEL anon_model_85cc2bb3b4778c5271b0f49e80ca1662 NOW.\n"
     ]
    }
   ],
   "source": [
    "compiled = False\n",
    "#compiled = True\n",
    "\n",
    "if compiled: \n",
    "    sm = pickle.load(open('../models/extra/gumbel_dist.pkl', 'rb'))\n",
    "else: \n",
    "    sm = ps.StanModel(file = '../models/extra/gumbel_dist.stan')\n",
    "    with open('../models/extra/gumbel_dist.pkl', 'wb') as f:\n",
    "        pickle.dump(sm, f)"
   ]
  },
  {
   "cell_type": "code",
   "execution_count": 25,
   "id": "635dd2c1-0741-43a1-82bd-997df80bf332",
   "metadata": {},
   "outputs": [
    {
     "name": "stdout",
     "output_type": "stream",
     "text": [
      "functions {\n",
      "  real gumbel_type2_lpdf(real tau, real lambda){\n",
      "    return -(3/2 * log(tau) + lambda / sqrt(tau)); \n",
      "  }\n",
      "}\n",
      "data {\n",
      "   int<lower = 0> n;\n",
      "   real<lower = 0> lambda;\n",
      "   cov_matrix[n] c; \n",
      "   vector[n] y;  \n",
      "}\n",
      "parameters {\n",
      "   real<lower = 0> tau;\n",
      "}\n",
      "model {\n",
      "   tau ~ gumbel_type2(lambda);\n",
      "   y ~ multi_normal(rep_vector(0, n), (1/sqrt(tau)) * c);\n",
      "}\n"
     ]
    }
   ],
   "source": [
    "print(sm.model_code)"
   ]
  },
  {
   "cell_type": "code",
   "execution_count": 26,
   "id": "0bcf3a56-e834-4414-ad76-3b497f0705d9",
   "metadata": {},
   "outputs": [],
   "source": [
    "cov_matrix = np.array([ \n",
    "    [2, 1, 1, 0, 0], \n",
    "    [1, 2, 1, 0, 0], \n",
    "    [1, 1, 4, 0, 1], \n",
    "    [0, 0, 0, 2, 1], \n",
    "    [0, 0, 1, 1, 3]\n",
    "])\n",
    "\n",
    "tau = 3\n",
    "\n",
    "y = np.random.multivariate_normal(mean = np.zeros(5), \n",
    "                                  cov = (1/np.sqrt(tau)) * cov_matrix)\n",
    "\n",
    "data = {\n",
    "    'n': 5,\n",
    "    'lambda': 1, \n",
    "    'c': cov_matrix, \n",
    "    'y': y\n",
    "}"
   ]
  },
  {
   "cell_type": "code",
   "execution_count": 29,
   "id": "d7cee44a-4e42-40e4-8a55-b7752986c150",
   "metadata": {},
   "outputs": [],
   "source": [
    "fit = sm.sampling(data = data)"
   ]
  },
  {
   "cell_type": "code",
   "execution_count": 30,
   "id": "476ab464-ae67-44ce-9204-9d1976a412ff",
   "metadata": {},
   "outputs": [
    {
     "data": {
      "text/plain": [
       "Inference for Stan model: anon_model_85cc2bb3b4778c5271b0f49e80ca1662.\n",
       "4 chains, each with iter=2000; warmup=1000; thin=1; \n",
       "post-warmup draws per chain=1000, total post-warmup draws=4000.\n",
       "\n",
       "       mean se_mean     sd   2.5%    25%    50%    75%  97.5%  n_eff   Rhat\n",
       "tau   22.48    0.62  26.74   1.06    5.8  13.66  28.67  97.16   1882    1.0\n",
       "lp__  -1.83    0.02   0.67  -3.75  -2.01  -1.56  -1.38  -1.33   1599    1.0\n",
       "\n",
       "Samples were drawn using NUTS at Thu Oct  7 00:10:30 2021.\n",
       "For each parameter, n_eff is a crude measure of effective sample size,\n",
       "and Rhat is the potential scale reduction factor on split chains (at \n",
       "convergence, Rhat=1)."
      ]
     },
     "execution_count": 30,
     "metadata": {},
     "output_type": "execute_result"
    }
   ],
   "source": [
    "fit"
   ]
  },
  {
   "cell_type": "code",
   "execution_count": null,
   "id": "ebafdd93-e917-4dec-a281-95c80025b2a4",
   "metadata": {},
   "outputs": [],
   "source": []
  }
 ],
 "metadata": {
  "kernelspec": {
   "display_name": "tcc-emap",
   "language": "python",
   "name": "tcc-emap"
  },
  "language_info": {
   "codemirror_mode": {
    "name": "ipython",
    "version": 3
   },
   "file_extension": ".py",
   "mimetype": "text/x-python",
   "name": "python",
   "nbconvert_exporter": "python",
   "pygments_lexer": "ipython3",
   "version": "3.8.12"
  }
 },
 "nbformat": 4,
 "nbformat_minor": 5
}
