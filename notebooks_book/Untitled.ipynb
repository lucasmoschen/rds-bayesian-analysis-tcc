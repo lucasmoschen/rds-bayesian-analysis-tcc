{
 "cells": [
  {
   "cell_type": "markdown",
   "id": "8eb790b3-54d7-43e6-a1d0-9258c6c9814f",
   "metadata": {},
   "source": [
    "# Understanding E-BFMI\n",
    "\n",
    "When I was studying a model for my disseration, a warning was displayed by Stan: E-BFMI was too low. In order to understand why it happens, [this link](https://discourse.mc-stan.org/t/issues-with-e-bfmi-missing-doc-confusing-name-etc/22553) is very useful. Moreover, [this article](https://arxiv.org/pdf/1604.00695.pdf) is very explanatory, so I will follow it in this notebook.  \n",
    "\n",
    "Let $\\pi$ be the target distribution, that we assume that admits a density with respect"
   ]
  },
  {
   "cell_type": "code",
   "execution_count": null,
   "id": "a31f5567-80c7-47f8-b4a5-4f8ddbce8ca3",
   "metadata": {},
   "outputs": [],
   "source": []
  }
 ],
 "metadata": {
  "kernelspec": {
   "display_name": "Python 3.9.5 64-bit ('tcc-rds': conda)",
   "language": "python",
   "name": "python395jvsc74a57bd05ed45aeb2f80697313442a6637689c7cea9f5cd323e50e2056a37945d13c6921"
  },
  "language_info": {
   "codemirror_mode": {
    "name": "ipython",
    "version": 3
   },
   "file_extension": ".py",
   "mimetype": "text/x-python",
   "name": "python",
   "nbconvert_exporter": "python",
   "pygments_lexer": "ipython3",
   "version": "3.9.5"
  }
 },
 "nbformat": 4,
 "nbformat_minor": 5
}
