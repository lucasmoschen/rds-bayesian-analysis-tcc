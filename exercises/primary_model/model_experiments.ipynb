{
 "cells": [
  {
   "cell_type": "markdown",
   "id": "bfeaed55-689c-4aa2-8930-1e85e5aaa53d",
   "metadata": {},
   "source": [
    "# Primary model experiments\n",
    "\n",
    "This notebook intends to test the models specified in the file `preliminary_model.pdf` to estimate prevalence. "
   ]
  },
  {
   "cell_type": "code",
   "execution_count": null,
   "id": "5a67f45d-4a2e-435a-b70f-df6b51548bfd",
   "metadata": {},
   "outputs": [],
   "source": []
  }
 ],
 "metadata": {
  "kernelspec": {
   "display_name": "tcc-rds",
   "language": "python",
   "name": "tcc-rds"
  },
  "language_info": {
   "codemirror_mode": {
    "name": "ipython",
    "version": 3
   },
   "file_extension": ".py",
   "mimetype": "text/x-python",
   "name": "python",
   "nbconvert_exporter": "python",
   "pygments_lexer": "ipython3",
   "version": "3.9.5"
  }
 },
 "nbformat": 4,
 "nbformat_minor": 5
}
