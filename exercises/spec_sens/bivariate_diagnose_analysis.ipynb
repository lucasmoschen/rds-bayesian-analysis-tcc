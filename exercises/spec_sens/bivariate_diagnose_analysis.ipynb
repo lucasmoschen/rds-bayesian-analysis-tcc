{
 "cells": [
  {
   "cell_type": "markdown",
   "id": "7aba8dcb-2aa0-456c-8c11-479ebe6243af",
   "metadata": {},
   "source": [
    "# Outcome measured with uncertainty \n",
    "\n",
    "In real life, the outcome of interest is measured with imperfect test. Misclassification induced by such an imperfect diagnostic test will lead to biased estimates of the odds ratios and their variances. In that regard, it is important to consider sensitivity and specificity of the diagnostic. Prior information of these quantities lead to a bivariate analysis [1]. This notebook intends to use a bivariate Beta distribution built in [2]. I am going to use data from a Meta-analysis in which the telomerase\n",
    "marker is used to diagnose bladder cancer taken from [3]. "
   ]
  },
  {
   "cell_type": "code",
   "execution_count": 19,
   "id": "dc7382f0-4918-414a-8324-fee5f58ca9a8",
   "metadata": {},
   "outputs": [],
   "source": [
    "import pandas as pd \n",
    "import numpy as np\n",
    "\n",
    "from scipy.special import gamma\n",
    "from scipy.integrate import quad\n",
    "\n",
    "import matplotlib.pyplot as plt\n",
    "import seaborn as sns\n",
    "sns.set()"
   ]
  },
  {
   "cell_type": "markdown",
   "id": "7143e2a3-39b2-4211-a8af-0873f7225e75",
   "metadata": {},
   "source": [
    "We have data of True Positives (TP), False Negatives (FN), True Negatives (TN), and False Positives (FP). Note that the empirical estimator of sensitivity $\\gamma_s$ is \n",
    "\n",
    "$$\n",
    "\\hat{\\gamma}_s = \\frac{TP}{TP + FN}\n",
    "$$\n",
    "\n",
    "and of especificity $\\gamma_e$ is \n",
    "\n",
    "$$\n",
    "\\hat{\\gamma}_e = \\frac{TN}{TN + FP}.\n",
    "$$\n",
    "\n",
    "The initial ideia is to use the estimators from different studies and to use this information in the bivariate beta ditribution. "
   ]
  },
  {
   "cell_type": "code",
   "execution_count": 8,
   "id": "5ac13ef7-568c-4b3b-bb95-3951c494a76f",
   "metadata": {},
   "outputs": [
    {
     "data": {
      "text/html": [
       "<div>\n",
       "<style scoped>\n",
       "    .dataframe tbody tr th:only-of-type {\n",
       "        vertical-align: middle;\n",
       "    }\n",
       "\n",
       "    .dataframe tbody tr th {\n",
       "        vertical-align: top;\n",
       "    }\n",
       "\n",
       "    .dataframe thead th {\n",
       "        text-align: right;\n",
       "    }\n",
       "</style>\n",
       "<table border=\"1\" class=\"dataframe\">\n",
       "  <thead>\n",
       "    <tr style=\"text-align: right;\">\n",
       "      <th></th>\n",
       "      <th>Study</th>\n",
       "      <th>TP</th>\n",
       "      <th>FN</th>\n",
       "      <th>TN</th>\n",
       "      <th>FP</th>\n",
       "    </tr>\n",
       "  </thead>\n",
       "  <tbody>\n",
       "    <tr>\n",
       "      <th>0</th>\n",
       "      <td>Ito et al. (1998)</td>\n",
       "      <td>25</td>\n",
       "      <td>8</td>\n",
       "      <td>25</td>\n",
       "      <td>1</td>\n",
       "    </tr>\n",
       "    <tr>\n",
       "      <th>1</th>\n",
       "      <td>Rahat et al. (1999)</td>\n",
       "      <td>17</td>\n",
       "      <td>4</td>\n",
       "      <td>11</td>\n",
       "      <td>3</td>\n",
       "    </tr>\n",
       "    <tr>\n",
       "      <th>2</th>\n",
       "      <td>Kavaler et al. (1998)</td>\n",
       "      <td>88</td>\n",
       "      <td>16</td>\n",
       "      <td>31</td>\n",
       "      <td>16</td>\n",
       "    </tr>\n",
       "    <tr>\n",
       "      <th>3</th>\n",
       "      <td>Yoshida et al. (1997)</td>\n",
       "      <td>16</td>\n",
       "      <td>10</td>\n",
       "      <td>80</td>\n",
       "      <td>3</td>\n",
       "    </tr>\n",
       "    <tr>\n",
       "      <th>4</th>\n",
       "      <td>Ramakumar et al. (1999)</td>\n",
       "      <td>40</td>\n",
       "      <td>17</td>\n",
       "      <td>137</td>\n",
       "      <td>1</td>\n",
       "    </tr>\n",
       "    <tr>\n",
       "      <th>5</th>\n",
       "      <td>Landman et al. (1998)</td>\n",
       "      <td>38</td>\n",
       "      <td>9</td>\n",
       "      <td>24</td>\n",
       "      <td>6</td>\n",
       "    </tr>\n",
       "    <tr>\n",
       "      <th>6</th>\n",
       "      <td>Kinoshita et al. (1997)</td>\n",
       "      <td>23</td>\n",
       "      <td>19</td>\n",
       "      <td>12</td>\n",
       "      <td>0</td>\n",
       "    </tr>\n",
       "    <tr>\n",
       "      <th>7</th>\n",
       "      <td>Gelmini et al. (2000)</td>\n",
       "      <td>27</td>\n",
       "      <td>6</td>\n",
       "      <td>18</td>\n",
       "      <td>2</td>\n",
       "    </tr>\n",
       "    <tr>\n",
       "      <th>8</th>\n",
       "      <td>Cheng et al. (2000)</td>\n",
       "      <td>14</td>\n",
       "      <td>3</td>\n",
       "      <td>29</td>\n",
       "      <td>3</td>\n",
       "    </tr>\n",
       "    <tr>\n",
       "      <th>9</th>\n",
       "      <td>Cassel et al. (2001)</td>\n",
       "      <td>37</td>\n",
       "      <td>7</td>\n",
       "      <td>7</td>\n",
       "      <td>22</td>\n",
       "    </tr>\n",
       "  </tbody>\n",
       "</table>\n",
       "</div>"
      ],
      "text/plain": [
       "                     Study  TP  FN   TN  FP\n",
       "0        Ito et al. (1998)  25   8   25   1\n",
       "1      Rahat et al. (1999)  17   4   11   3\n",
       "2    Kavaler et al. (1998)  88  16   31  16\n",
       "3    Yoshida et al. (1997)  16  10   80   3\n",
       "4  Ramakumar et al. (1999)  40  17  137   1\n",
       "5    Landman et al. (1998)  38   9   24   6\n",
       "6  Kinoshita et al. (1997)  23  19   12   0\n",
       "7    Gelmini et al. (2000)  27   6   18   2\n",
       "8      Cheng et al. (2000)  14   3   29   3\n",
       "9     Cassel et al. (2001)  37   7    7  22"
      ]
     },
     "execution_count": 8,
     "metadata": {},
     "output_type": "execute_result"
    }
   ],
   "source": [
    "studies = pd.read_csv('../../data/telomerase_meta_analysis.csv')\n",
    "studies"
   ]
  },
  {
   "cell_type": "code",
   "execution_count": 12,
   "id": "32cf24b3-36ec-4ad1-aa4b-1e2706f37aff",
   "metadata": {},
   "outputs": [],
   "source": [
    "studies['sens'] = studies['TP']/(studies['TP'] + studies['FN'])\n",
    "studies['spec'] = studies['TN']/(studies['TN'] + studies['FP'])"
   ]
  },
  {
   "cell_type": "code",
   "execution_count": 18,
   "id": "d6c4ff39-4c38-4d10-8edd-0c87b1273d4c",
   "metadata": {},
   "outputs": [
    {
     "data": {
      "image/png": "[encoded data removed]",
      "text/plain": [
       "<Figure size 640x480 with 1 Axes>"
      ]
     },
     "metadata": {},
     "output_type": "display_data"
    }
   ],
   "source": [
    "sns.scatterplot(x = 'sens', y = 'spec', data = studies)\n",
    "plt.show()"
   ]
  },
  {
   "cell_type": "markdown",
   "id": "1dca4f4c-4e92-420c-93a1-55a57844e743",
   "metadata": {},
   "source": [
    "## Bivariate Beta\n",
    "\n",
    "Let $U = (U_1, U_2, U_3, U_4) \\sim\n",
    "\\operatorname{Dirichlet}(\\boldsymbol{\\alpha})$, where $\\boldsymbol{\\alpha} =\n",
    "(\\alpha_1, \\alpha_2, \\alpha_3, \\alpha_4)$ and $U_4 = 1 - U_1 + U_2 + U_3$.\n",
    "Therefore the joint density of $U$ is \n",
    "\n",
    "\\begin{equation}\n",
    "  f_U(u_1, u_2, u_3) = \\frac{1}{B(\\alpha_1,\\alpha_2,\\alpha_3,\\alpha_4)}u_1^{\\alpha_1-1}u_2^{\\alpha_2-1}u_3^{\\alpha_3-1}(1-u_1-u_2-u_3)^{\\alpha_4-1}, \n",
    "\\end{equation}\n",
    "\n",
    "where $u_i \\in [0,1], i = 1,2,3$, $u_1 + u_2 + u_3 \\le 1$, $\\alpha_i > 0, i =\n",
    "1,...,4$ and for $v \\in \\mathbb{R}^n$,\n",
    "\n",
    "$$B(v) = \\frac{\\prod_{i=1}^n \\Gamma(v_i)}{\\Gamma\\left(\\sum_{i=1}^n v_i\\right)}.$$ \n",
    "\n",
    "Define\n",
    "\\begin{equation}\n",
    "  X = U_1 + U_2 \\text{ and } Y = U_1 + U_3.\n",
    "\\end{equation} \n",
    "\n",
    "The joint ditribution of $(X,Y)$ with domain $\\Omega = \\{u_{1} : \\max(0, x + y - 1) < u_{1} < \\min(x, y)\\}$ is bivariate beta. \n",
    "\n",
    "I remember that the choice of all parameters to be less than one can lead to convergence problems, specially when $x=y$. "
   ]
  },
  {
   "cell_type": "code",
   "execution_count": 20,
   "id": "73f69d81-2286-4f9b-83ae-c83113f458d7",
   "metadata": {},
   "outputs": [],
   "source": [
    "constant_factor = lambda alpha: gamma(alpha).prod()/gamma(alpha.sum())\n",
    "\n",
    "def f_u(u, x, y, alpha): \n",
    "    \n",
    "    if (u == 0) or (u == x) or (u == y) or (u == x+y-1): \n",
    "        return 0\n",
    "    \n",
    "    fun  = u**(alpha[0]-1)\n",
    "    fun *= (x-u)**(alpha[1]-1)\n",
    "    fun *= (y-u)**(alpha[2]-1)\n",
    "    fun *= (1-x-y+u)**(alpha[3]-1)\n",
    "    \n",
    "    return fun\n",
    "\n",
    "def bivariate_beta_pdf(x, y, alpha): \n",
    "    \n",
    "    if (x==0) or (y==0) or (x==1) or (y==1): \n",
    "        return 0\n",
    "    \n",
    "    c = constant_factor(alpha)\n",
    "    \n",
    "    lb = max(0,x+y-1)\n",
    "    ub = min(x,y)\n",
    "            \n",
    "    return quad(f_u, lb, ub, args=(x,y,alpha))/c"
   ]
  },
  {
   "cell_type": "markdown",
   "id": "167abd69-2d70-4ae9-ad6f-5f8375a9456b",
   "metadata": {},
   "source": [
    "We have that \n",
    "\n",
    "\\begin{align*}\n",
    "    X &\\sim \\operatorname{Beta}(\\alpha_1 + \\alpha_2, \\alpha_3 + \\alpha_4) \\\\\n",
    "    Y &\\sim \\operatorname{Beta}(\\alpha_1 + \\alpha_3, \\alpha_2 + \\alpha_4) \\\\\n",
    "    \\operatorname{E}(X) &= \\operatorname{E}(U_1 + U_2) = \\frac{\\alpha_1+\\alpha_2}{\\alpha_1+\\alpha_2+\\alpha_3+\\alpha_4} \\\\\n",
    "    \\operatorname{E}(Y) &= \\operatorname{E}(U_1 + U_3) = \\frac{\\alpha_1+\\alpha_3}{\\alpha_1+\\alpha_2+\\alpha_3+\\alpha_4} \\\\\n",
    "    \\operatorname{Var}(X) &= \\operatorname{Cov}(U_1+U_2, U_1+U_2) = \\frac{1}{\\tilde{\\alpha}^2(\\tilde{\\alpha}+1)}(\\alpha_1+\\alpha_2)(\\alpha_3 + \\alpha_4) \\\\\n",
    "    \\operatorname{Var}(Y) &= \\operatorname{Cov}(U_1+U_3, U_1+U_3) = \\frac{1}{\\tilde{\\alpha}^2(\\tilde{\\alpha}+1)}(\\alpha_1+\\alpha_3)(\\alpha_2 + \\alpha_4)  \\\\ \n",
    "    \\operatorname{Cov}(X,Y) &= \\operatorname{Cov}(U_1+U_2, U_1+U_3) = \\frac{1}{\\tilde{\\alpha}^2(\\tilde{\\alpha}+1)}(\\alpha_1\\alpha_4 - \\alpha_2\\alpha_3) \\\\\n",
    "    \\operatorname{Cor}(X,Y) &= \\frac{\\operatorname{Cov}(X,Y)}{\\sqrt{\\operatorname{Var}(X)\\operatorname{Var}(Y)}} = \\frac{\\alpha_1\\alpha_4 - \\alpha_2\\alpha_3}{\\sqrt{(\\alpha_1+\\alpha_2)(\\alpha_3+\\alpha_4)(\\alpha_1+\\alpha_3)(\\alpha_2+\\alpha_4)}}\n",
    "\\end{align*}"
   ]
  },
  {
   "cell_type": "markdown",
   "id": "841cf30a-d075-4810-b5c9-64707ae205ff",
   "metadata": {},
   "source": [
    "## References \n",
    "\n",
    "[1] Guo, J., Riebler, A., and Rue, H. (2017) Bayesian bivariate meta-analysis of diagnostic test studies with interpretable priors. Statist. Med., 36: 3039– 3058. doi: 10.1002/sim.7313.\n",
    "\n",
    "[2] Olkin, Ingram & Trikalinos, Thomas. (2014). Constructions for a bivariate beta distribution. Statistics & Probability Letters. 96. 10.1016/j.spl.2014.09.013. \n",
    "\n",
    "[3] Glas AS, Roos D, Deutekom M, Zwinderman AH, Bossuyt PMM, Kurth KH. Tumor markers in the diagnosis of primary bladder cancer. A systematic review. The Journal of Urology 2003; 169(6):1975–1982."
   ]
  }
 ],
 "metadata": {
  "kernelspec": {
   "display_name": "tcc-rds",
   "language": "python",
   "name": "tcc-rds"
  },
  "language_info": {
   "codemirror_mode": {
    "name": "ipython",
    "version": 3
   },
   "file_extension": ".py",
   "mimetype": "text/x-python",
   "name": "python",
   "nbconvert_exporter": "python",
   "pygments_lexer": "ipython3",
   "version": "3.9.5"
  }
 },
 "nbformat": 4,
 "nbformat_minor": 5
}
